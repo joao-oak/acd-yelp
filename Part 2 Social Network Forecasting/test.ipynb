{
 "cells": [
  {
   "cell_type": "code",
   "execution_count": 2,
   "metadata": {},
   "outputs": [],
   "source": [
    "import pandas as pd\n",
    "import networkx as nx\n",
    "import matplotlib.pyplot as plt\n",
    "\n"
   ]
  },
  {
   "cell_type": "code",
   "execution_count": 3,
   "metadata": {},
   "outputs": [
    {
     "name": "stderr",
     "output_type": "stream",
     "text": [
      "C:\\Users\\asus\\AppData\\Local\\Temp\\ipykernel_8780\\337022466.py:7: DtypeWarning: Columns (8) have mixed types. Specify dtype option on import or set low_memory=False.\n",
      "  df_user = pd.read_csv(\"yelp_academic_dataset_user.csv\")\n"
     ]
    }
   ],
   "source": [
    "df_review = pd.read_csv(\"yelp_academic_dataset_review.csv\")\n",
    "df_review = pd.DataFrame(df_review)\n",
    "\n",
    "df_business = pd.read_csv(\"yelp_academic_dataset_business.csv\")\n",
    "df_business = pd.DataFrame(df_business)\n",
    "\n",
    "df_user = pd.read_csv(\"yelp_academic_dataset_user.csv\")\n",
    "df_user = pd.DataFrame(df_user)"
   ]
  },
  {
   "cell_type": "code",
   "execution_count": null,
   "metadata": {},
   "outputs": [],
   "source": [
    "import pandas as pd\n",
    "import networkx as nx\n",
    "import matplotlib.pyplot as plt\n",
    "from itertools import combinations\n",
    "\n",
    "# Step 1: Filter businesses to include only Restaurants in Philadelphia\n",
    "df_business_restaurants = df_business[\n",
    "    df_business['categories'].str.contains(\"Restaurants\", na=False) & \n",
    "    (df_business['city'] == 'Philadelphia')\n",
    "]\n",
    "\n",
    "# Step 2: Filter reviews for those businesses only\n",
    "df_filtered_reviews = pd.merge(df_review, df_business_restaurants[['business_id']], on='business_id', how='inner')\n",
    "\n",
    "# Step 3: Create a user interaction network\n",
    "G = nx.Graph()\n",
    "\n",
    "# Create edges between users who reviewed the same business using combinations\n",
    "for business_id, group in df_filtered_reviews.groupby('business_id'):\n",
    "    users = group['user_id'].tolist()\n",
    "    # Use combinations to add edges\n",
    "    for user1, user2 in combinations(users, 2):\n",
    "        G.add_edge(user1, user2)\n",
    "\n",
    "# Step 4: Add user information to the graph (optional, for future analysis)\n",
    "# Create a mapping of user_id to user info\n",
    "user_info = df_user.set_index('user_id')[['review_count', 'yelping_since']].to_dict(orient='index')\n",
    "\n",
    "for user_id in G.nodes:\n",
    "    if user_id in user_info:\n",
    "        G.nodes[user_id].update(user_info[user_id])\n",
    "\n",
    "# Step 5: Analyze and visualize the network\n",
    "plt.figure(figsize=(10, 10))\n",
    "nx.draw(G, with_labels=False, node_size=50, node_color='blue', edge_color='gray')\n",
    "plt.title(\"User Interaction Network based on Reviews of Restaurants in Philadelphia\")\n",
    "plt.show()\n",
    "\n",
    "# Step 6: Basic network statistics\n",
    "print(\"Number of nodes (users):\", G.number_of_nodes())\n",
    "print(\"Number of edges (interactions):\", G.number_of_edges())\n",
    "\n",
    "# Optional: Find communities (clusters) or central users in the network\n"
   ]
  }
 ],
 "metadata": {
  "kernelspec": {
   "display_name": "base",
   "language": "python",
   "name": "python3"
  },
  "language_info": {
   "codemirror_mode": {
    "name": "ipython",
    "version": 3
   },
   "file_extension": ".py",
   "mimetype": "text/x-python",
   "name": "python",
   "nbconvert_exporter": "python",
   "pygments_lexer": "ipython3",
   "version": "3.11.4"
  }
 },
 "nbformat": 4,
 "nbformat_minor": 2
}

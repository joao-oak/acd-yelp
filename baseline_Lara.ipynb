{
 "cells": [
  {
   "cell_type": "code",
   "execution_count": 1,
   "metadata": {},
   "outputs": [],
   "source": [
    "import json\n",
    "import pandas as pd\n",
    "import matplotlib.pyplot as plt\n",
    "import numpy as np\n",
    "from surprise import Dataset, Reader, NormalPredictor, KNNBasic, KNNWithZScore, KNNWithMeans, KNNWithZScore, SVD\n",
    "from surprise.model_selection import train_test_split, cross_validate\n",
    "from collections import defaultdict\n",
    "from surprise import accuracy"
   ]
  },
  {
   "cell_type": "code",
   "execution_count": 2,
   "metadata": {},
   "outputs": [],
   "source": [
    "# df_dict = {}\n",
    "\n",
    "# for i in ['review']: #,'business', 'checkin',  'tip', 'user']:\n",
    "#     data = []\n",
    "#     with open(f'yelp_academic_dataset_{i}.json', 'r') as file:\n",
    "#         for line in file:\n",
    "#             data.append(json.loads(line))\n",
    "\n",
    "#     df = pd.DataFrame(data)\n",
    "#     df_dict[f'df_{i}'] = df"
   ]
  },
  {
   "cell_type": "code",
   "execution_count": 3,
   "metadata": {},
   "outputs": [],
   "source": [
    "df_review = pd.read_csv(\"yelp_academic_dataset_review.csv\")\n",
    "df_review = pd.DataFrame(df_review)"
   ]
  },
  {
   "cell_type": "code",
   "execution_count": 4,
   "metadata": {},
   "outputs": [],
   "source": [
    "df_business = pd.read_csv(\"yelp_academic_dataset_business.csv\")\n",
    "df_business = pd.DataFrame(df_business)"
   ]
  },
  {
   "cell_type": "code",
   "execution_count": 5,
   "metadata": {},
   "outputs": [
    {
     "name": "stderr",
     "output_type": "stream",
     "text": [
      "C:\\Users\\asus\\AppData\\Local\\Temp\\ipykernel_28888\\1230748970.py:1: DtypeWarning: Columns (8) have mixed types. Specify dtype option on import or set low_memory=False.\n",
      "  df_user = pd.read_csv(\"yelp_academic_dataset_user.csv\")\n"
     ]
    }
   ],
   "source": [
    "df_user = pd.read_csv(\"yelp_academic_dataset_user.csv\")\n",
    "df_user = pd.DataFrame(df_user)"
   ]
  },
  {
   "cell_type": "code",
   "execution_count": 6,
   "metadata": {},
   "outputs": [],
   "source": [
    "# df_business = df_dict['df_business']\n",
    "# df_user = df_dict['df_user']\n",
    "# df_review = df_dict['df_review']"
   ]
  },
  {
   "cell_type": "code",
   "execution_count": 7,
   "metadata": {},
   "outputs": [
    {
     "data": {
      "text/html": [
       "<div>\n",
       "<style scoped>\n",
       "    .dataframe tbody tr th:only-of-type {\n",
       "        vertical-align: middle;\n",
       "    }\n",
       "\n",
       "    .dataframe tbody tr th {\n",
       "        vertical-align: top;\n",
       "    }\n",
       "\n",
       "    .dataframe thead th {\n",
       "        text-align: right;\n",
       "    }\n",
       "</style>\n",
       "<table border=\"1\" class=\"dataframe\">\n",
       "  <thead>\n",
       "    <tr style=\"text-align: right;\">\n",
       "      <th></th>\n",
       "      <th>review_id</th>\n",
       "      <th>user_id</th>\n",
       "      <th>business_id</th>\n",
       "      <th>stars</th>\n",
       "      <th>useful</th>\n",
       "      <th>funny</th>\n",
       "      <th>cool</th>\n",
       "      <th>text</th>\n",
       "      <th>date</th>\n",
       "    </tr>\n",
       "  </thead>\n",
       "  <tbody>\n",
       "    <tr>\n",
       "      <th>0</th>\n",
       "      <td>KU_O5udG6zpxOg-VcAEodg</td>\n",
       "      <td>mh_-eMZ6K5RLWhZyISBhwA</td>\n",
       "      <td>XQfwVwDr-v0ZS3_CbbE5Xw</td>\n",
       "      <td>3.0</td>\n",
       "      <td>0</td>\n",
       "      <td>0</td>\n",
       "      <td>0</td>\n",
       "      <td>If you decide to eat here, just be aware it is...</td>\n",
       "      <td>2018-07-07 22:09:11</td>\n",
       "    </tr>\n",
       "    <tr>\n",
       "      <th>1</th>\n",
       "      <td>BiTunyQ73aT9WBnpR9DZGw</td>\n",
       "      <td>OyoGAe7OKpv6SyGZT5g77Q</td>\n",
       "      <td>7ATYjTIgM3jUlt4UM3IypQ</td>\n",
       "      <td>5.0</td>\n",
       "      <td>1</td>\n",
       "      <td>0</td>\n",
       "      <td>1</td>\n",
       "      <td>I've taken a lot of spin classes over the year...</td>\n",
       "      <td>2012-01-03 15:28:18</td>\n",
       "    </tr>\n",
       "    <tr>\n",
       "      <th>2</th>\n",
       "      <td>saUsX_uimxRlCVr67Z4Jig</td>\n",
       "      <td>8g_iMtfSiwikVnbP2etR0A</td>\n",
       "      <td>YjUWPpI6HXG530lwP-fb2A</td>\n",
       "      <td>3.0</td>\n",
       "      <td>0</td>\n",
       "      <td>0</td>\n",
       "      <td>0</td>\n",
       "      <td>Family diner. Had the buffet. Eclectic assortm...</td>\n",
       "      <td>2014-02-05 20:30:30</td>\n",
       "    </tr>\n",
       "    <tr>\n",
       "      <th>3</th>\n",
       "      <td>AqPFMleE6RsU23_auESxiA</td>\n",
       "      <td>_7bHUi9Uuf5__HHc_Q8guQ</td>\n",
       "      <td>kxX2SOes4o-D3ZQBkiMRfA</td>\n",
       "      <td>5.0</td>\n",
       "      <td>1</td>\n",
       "      <td>0</td>\n",
       "      <td>1</td>\n",
       "      <td>Wow!  Yummy, different,  delicious.   Our favo...</td>\n",
       "      <td>2015-01-04 00:01:03</td>\n",
       "    </tr>\n",
       "    <tr>\n",
       "      <th>4</th>\n",
       "      <td>Sx8TMOWLNuJBWer-0pcmoA</td>\n",
       "      <td>bcjbaE6dDog4jkNY91ncLQ</td>\n",
       "      <td>e4Vwtrqf-wpJfwesgvdgxQ</td>\n",
       "      <td>4.0</td>\n",
       "      <td>1</td>\n",
       "      <td>0</td>\n",
       "      <td>1</td>\n",
       "      <td>Cute interior and owner (?) gave us tour of up...</td>\n",
       "      <td>2017-01-14 20:54:15</td>\n",
       "    </tr>\n",
       "    <tr>\n",
       "      <th>...</th>\n",
       "      <td>...</td>\n",
       "      <td>...</td>\n",
       "      <td>...</td>\n",
       "      <td>...</td>\n",
       "      <td>...</td>\n",
       "      <td>...</td>\n",
       "      <td>...</td>\n",
       "      <td>...</td>\n",
       "      <td>...</td>\n",
       "    </tr>\n",
       "    <tr>\n",
       "      <th>6990275</th>\n",
       "      <td>H0RIamZu0B0Ei0P4aeh3sQ</td>\n",
       "      <td>qskILQ3k0I_qcCMI-k6_QQ</td>\n",
       "      <td>jals67o91gcrD4DC81Vk6w</td>\n",
       "      <td>5.0</td>\n",
       "      <td>1</td>\n",
       "      <td>2</td>\n",
       "      <td>1</td>\n",
       "      <td>Latest addition to services from ICCU is Apple...</td>\n",
       "      <td>2014-12-17 21:45:20</td>\n",
       "    </tr>\n",
       "    <tr>\n",
       "      <th>6990276</th>\n",
       "      <td>shTPgbgdwTHSuU67mGCmZQ</td>\n",
       "      <td>Zo0th2m8Ez4gLSbHftiQvg</td>\n",
       "      <td>2vLksaMmSEcGbjI5gywpZA</td>\n",
       "      <td>5.0</td>\n",
       "      <td>2</td>\n",
       "      <td>1</td>\n",
       "      <td>2</td>\n",
       "      <td>This spot offers a great, affordable east week...</td>\n",
       "      <td>2021-03-31 16:55:10</td>\n",
       "    </tr>\n",
       "    <tr>\n",
       "      <th>6990277</th>\n",
       "      <td>YNfNhgZlaaCO5Q_YJR4rEw</td>\n",
       "      <td>mm6E4FbCMwJmb7kPDZ5v2Q</td>\n",
       "      <td>R1khUUxidqfaJmcpmGd4aw</td>\n",
       "      <td>4.0</td>\n",
       "      <td>1</td>\n",
       "      <td>0</td>\n",
       "      <td>0</td>\n",
       "      <td>This Home Depot won me over when I needed to g...</td>\n",
       "      <td>2019-12-30 03:56:30</td>\n",
       "    </tr>\n",
       "    <tr>\n",
       "      <th>6990278</th>\n",
       "      <td>i-I4ZOhoX70Nw5H0FwrQUA</td>\n",
       "      <td>YwAMC-jvZ1fvEUum6QkEkw</td>\n",
       "      <td>Rr9kKArrMhSLVE9a53q-aA</td>\n",
       "      <td>5.0</td>\n",
       "      <td>1</td>\n",
       "      <td>0</td>\n",
       "      <td>0</td>\n",
       "      <td>For when I'm feeling like ignoring my calorie-...</td>\n",
       "      <td>2022-01-19 18:59:27</td>\n",
       "    </tr>\n",
       "    <tr>\n",
       "      <th>6990279</th>\n",
       "      <td>RwcKOdEuLRHNJe4M9-qpqg</td>\n",
       "      <td>6JehEvdoCvZPJ_XIxnzIIw</td>\n",
       "      <td>VAeEXLbEcI9Emt9KGYq9aA</td>\n",
       "      <td>3.0</td>\n",
       "      <td>10</td>\n",
       "      <td>3</td>\n",
       "      <td>7</td>\n",
       "      <td>Located in the 'Walking District' in Nashville...</td>\n",
       "      <td>2018-01-02 22:50:47</td>\n",
       "    </tr>\n",
       "  </tbody>\n",
       "</table>\n",
       "<p>6990280 rows × 9 columns</p>\n",
       "</div>"
      ],
      "text/plain": [
       "                      review_id                 user_id  \\\n",
       "0        KU_O5udG6zpxOg-VcAEodg  mh_-eMZ6K5RLWhZyISBhwA   \n",
       "1        BiTunyQ73aT9WBnpR9DZGw  OyoGAe7OKpv6SyGZT5g77Q   \n",
       "2        saUsX_uimxRlCVr67Z4Jig  8g_iMtfSiwikVnbP2etR0A   \n",
       "3        AqPFMleE6RsU23_auESxiA  _7bHUi9Uuf5__HHc_Q8guQ   \n",
       "4        Sx8TMOWLNuJBWer-0pcmoA  bcjbaE6dDog4jkNY91ncLQ   \n",
       "...                         ...                     ...   \n",
       "6990275  H0RIamZu0B0Ei0P4aeh3sQ  qskILQ3k0I_qcCMI-k6_QQ   \n",
       "6990276  shTPgbgdwTHSuU67mGCmZQ  Zo0th2m8Ez4gLSbHftiQvg   \n",
       "6990277  YNfNhgZlaaCO5Q_YJR4rEw  mm6E4FbCMwJmb7kPDZ5v2Q   \n",
       "6990278  i-I4ZOhoX70Nw5H0FwrQUA  YwAMC-jvZ1fvEUum6QkEkw   \n",
       "6990279  RwcKOdEuLRHNJe4M9-qpqg  6JehEvdoCvZPJ_XIxnzIIw   \n",
       "\n",
       "                    business_id  stars  useful  funny  cool  \\\n",
       "0        XQfwVwDr-v0ZS3_CbbE5Xw    3.0       0      0     0   \n",
       "1        7ATYjTIgM3jUlt4UM3IypQ    5.0       1      0     1   \n",
       "2        YjUWPpI6HXG530lwP-fb2A    3.0       0      0     0   \n",
       "3        kxX2SOes4o-D3ZQBkiMRfA    5.0       1      0     1   \n",
       "4        e4Vwtrqf-wpJfwesgvdgxQ    4.0       1      0     1   \n",
       "...                         ...    ...     ...    ...   ...   \n",
       "6990275  jals67o91gcrD4DC81Vk6w    5.0       1      2     1   \n",
       "6990276  2vLksaMmSEcGbjI5gywpZA    5.0       2      1     2   \n",
       "6990277  R1khUUxidqfaJmcpmGd4aw    4.0       1      0     0   \n",
       "6990278  Rr9kKArrMhSLVE9a53q-aA    5.0       1      0     0   \n",
       "6990279  VAeEXLbEcI9Emt9KGYq9aA    3.0      10      3     7   \n",
       "\n",
       "                                                      text  \\\n",
       "0        If you decide to eat here, just be aware it is...   \n",
       "1        I've taken a lot of spin classes over the year...   \n",
       "2        Family diner. Had the buffet. Eclectic assortm...   \n",
       "3        Wow!  Yummy, different,  delicious.   Our favo...   \n",
       "4        Cute interior and owner (?) gave us tour of up...   \n",
       "...                                                    ...   \n",
       "6990275  Latest addition to services from ICCU is Apple...   \n",
       "6990276  This spot offers a great, affordable east week...   \n",
       "6990277  This Home Depot won me over when I needed to g...   \n",
       "6990278  For when I'm feeling like ignoring my calorie-...   \n",
       "6990279  Located in the 'Walking District' in Nashville...   \n",
       "\n",
       "                        date  \n",
       "0        2018-07-07 22:09:11  \n",
       "1        2012-01-03 15:28:18  \n",
       "2        2014-02-05 20:30:30  \n",
       "3        2015-01-04 00:01:03  \n",
       "4        2017-01-14 20:54:15  \n",
       "...                      ...  \n",
       "6990275  2014-12-17 21:45:20  \n",
       "6990276  2021-03-31 16:55:10  \n",
       "6990277  2019-12-30 03:56:30  \n",
       "6990278  2022-01-19 18:59:27  \n",
       "6990279  2018-01-02 22:50:47  \n",
       "\n",
       "[6990280 rows x 9 columns]"
      ]
     },
     "execution_count": 7,
     "metadata": {},
     "output_type": "execute_result"
    }
   ],
   "source": [
    "df_review"
   ]
  },
  {
   "cell_type": "code",
   "execution_count": 8,
   "metadata": {},
   "outputs": [],
   "source": [
    "df_business=df_business[df_business['city']=='Philadelphia']\n",
    "df_business = df_business[df_business[\"categories\"].str.contains('Restaurants', na=False)]\n",
    "\n",
    "# Filtrar as avaliações para apenas aquelas cujo 'business_id' está presente no df_business\n",
    "df_merged = df_review[df_review['business_id'].isin(df_business['business_id'])]\n"
   ]
  },
  {
   "cell_type": "code",
   "execution_count": 9,
   "metadata": {},
   "outputs": [],
   "source": [
    "#antes\n",
    "# print(f'Number of users: {df_review[\"user_id\"].nunique()}')\n",
    "# print(f'Number of businesses: {df_review[\"business_id\"].nunique()}')"
   ]
  },
  {
   "cell_type": "code",
   "execution_count": 10,
   "metadata": {},
   "outputs": [
    {
     "name": "stdout",
     "output_type": "stream",
     "text": [
      "Number of users: 209513\n",
      "Number of businesses: 5852\n"
     ]
    }
   ],
   "source": [
    "#depois de selecionar apenas reviews de restaurantes em philadelphia\n",
    "print(f'Number of users: {df_merged[\"user_id\"].nunique()}')\n",
    "print(f'Number of businesses: {df_merged[\"business_id\"].nunique()}')"
   ]
  },
  {
   "cell_type": "code",
   "execution_count": 11,
   "metadata": {},
   "outputs": [],
   "source": [
    "# Too big to be in matrix format (~300B cells)\n",
    "df_pivot = df_merged.pivot_table(index='user_id', columns='business_id', values='stars', aggfunc='mean')"
   ]
  },
  {
   "cell_type": "code",
   "execution_count": 12,
   "metadata": {},
   "outputs": [
    {
     "data": {
      "text/html": [
       "<div>\n",
       "<style scoped>\n",
       "    .dataframe tbody tr th:only-of-type {\n",
       "        vertical-align: middle;\n",
       "    }\n",
       "\n",
       "    .dataframe tbody tr th {\n",
       "        vertical-align: top;\n",
       "    }\n",
       "\n",
       "    .dataframe thead th {\n",
       "        text-align: right;\n",
       "    }\n",
       "</style>\n",
       "<table border=\"1\" class=\"dataframe\">\n",
       "  <thead>\n",
       "    <tr style=\"text-align: right;\">\n",
       "      <th>business_id</th>\n",
       "      <th>-0M0b-XhtFagyLmsBtOe8w</th>\n",
       "      <th>-0PN_KFPtbnLQZEeb23XiA</th>\n",
       "      <th>-0TffRSXXIlBYVbb5AwfTg</th>\n",
       "      <th>-0eUa8TsXFFy0FCxHYmrjg</th>\n",
       "      <th>-1B9pP_CrRBJYPICE5WbRA</th>\n",
       "      <th>-1b2kNOowsPrPpBOK4lNkQ</th>\n",
       "      <th>-2-ih3mE8KPyeKVIzpBfPQ</th>\n",
       "      <th>-32hOCwsuKd04WO-HQyYFg</th>\n",
       "      <th>-3ArWZfDjfab8qVHf3WVtg</th>\n",
       "      <th>-3m_nXlyvdKAVNNmVirpGQ</th>\n",
       "      <th>...</th>\n",
       "      <th>zwTmOj4B_OVPMTMYijQiKg</th>\n",
       "      <th>zwWgOoaLY-RnFgNVuMc7GA</th>\n",
       "      <th>zwd4dyQ5ovnjVojWfAuhMw</th>\n",
       "      <th>zwgBxmrmPBF6N2uRTUYXrQ</th>\n",
       "      <th>zxRmQ_FWVowh8rlzLCSURQ</th>\n",
       "      <th>zxY4DgtXsVHihSUpsmwamg</th>\n",
       "      <th>zy7uNOvpykrq-XlmDY_wHA</th>\n",
       "      <th>zyMkbavgHASQtqVwaock9A</th>\n",
       "      <th>zz-fcqurtm77bZ_rVvo2Lw</th>\n",
       "      <th>zzyx5x0Z7xXWWvWnZFuxlQ</th>\n",
       "    </tr>\n",
       "    <tr>\n",
       "      <th>user_id</th>\n",
       "      <th></th>\n",
       "      <th></th>\n",
       "      <th></th>\n",
       "      <th></th>\n",
       "      <th></th>\n",
       "      <th></th>\n",
       "      <th></th>\n",
       "      <th></th>\n",
       "      <th></th>\n",
       "      <th></th>\n",
       "      <th></th>\n",
       "      <th></th>\n",
       "      <th></th>\n",
       "      <th></th>\n",
       "      <th></th>\n",
       "      <th></th>\n",
       "      <th></th>\n",
       "      <th></th>\n",
       "      <th></th>\n",
       "      <th></th>\n",
       "      <th></th>\n",
       "    </tr>\n",
       "  </thead>\n",
       "  <tbody>\n",
       "    <tr>\n",
       "      <th>---r61b7EpVPkb4UVme5tA</th>\n",
       "      <td>NaN</td>\n",
       "      <td>NaN</td>\n",
       "      <td>NaN</td>\n",
       "      <td>NaN</td>\n",
       "      <td>NaN</td>\n",
       "      <td>NaN</td>\n",
       "      <td>NaN</td>\n",
       "      <td>NaN</td>\n",
       "      <td>NaN</td>\n",
       "      <td>NaN</td>\n",
       "      <td>...</td>\n",
       "      <td>NaN</td>\n",
       "      <td>NaN</td>\n",
       "      <td>NaN</td>\n",
       "      <td>NaN</td>\n",
       "      <td>NaN</td>\n",
       "      <td>NaN</td>\n",
       "      <td>NaN</td>\n",
       "      <td>NaN</td>\n",
       "      <td>NaN</td>\n",
       "      <td>NaN</td>\n",
       "    </tr>\n",
       "    <tr>\n",
       "      <th>--0kuuLmuYBe3Rmu0Iycww</th>\n",
       "      <td>NaN</td>\n",
       "      <td>NaN</td>\n",
       "      <td>NaN</td>\n",
       "      <td>NaN</td>\n",
       "      <td>NaN</td>\n",
       "      <td>NaN</td>\n",
       "      <td>NaN</td>\n",
       "      <td>NaN</td>\n",
       "      <td>NaN</td>\n",
       "      <td>NaN</td>\n",
       "      <td>...</td>\n",
       "      <td>NaN</td>\n",
       "      <td>NaN</td>\n",
       "      <td>NaN</td>\n",
       "      <td>NaN</td>\n",
       "      <td>NaN</td>\n",
       "      <td>NaN</td>\n",
       "      <td>NaN</td>\n",
       "      <td>NaN</td>\n",
       "      <td>NaN</td>\n",
       "      <td>NaN</td>\n",
       "    </tr>\n",
       "  </tbody>\n",
       "</table>\n",
       "<p>2 rows × 5852 columns</p>\n",
       "</div>"
      ],
      "text/plain": [
       "business_id             -0M0b-XhtFagyLmsBtOe8w  -0PN_KFPtbnLQZEeb23XiA  \\\n",
       "user_id                                                                  \n",
       "---r61b7EpVPkb4UVme5tA                     NaN                     NaN   \n",
       "--0kuuLmuYBe3Rmu0Iycww                     NaN                     NaN   \n",
       "\n",
       "business_id             -0TffRSXXIlBYVbb5AwfTg  -0eUa8TsXFFy0FCxHYmrjg  \\\n",
       "user_id                                                                  \n",
       "---r61b7EpVPkb4UVme5tA                     NaN                     NaN   \n",
       "--0kuuLmuYBe3Rmu0Iycww                     NaN                     NaN   \n",
       "\n",
       "business_id             -1B9pP_CrRBJYPICE5WbRA  -1b2kNOowsPrPpBOK4lNkQ  \\\n",
       "user_id                                                                  \n",
       "---r61b7EpVPkb4UVme5tA                     NaN                     NaN   \n",
       "--0kuuLmuYBe3Rmu0Iycww                     NaN                     NaN   \n",
       "\n",
       "business_id             -2-ih3mE8KPyeKVIzpBfPQ  -32hOCwsuKd04WO-HQyYFg  \\\n",
       "user_id                                                                  \n",
       "---r61b7EpVPkb4UVme5tA                     NaN                     NaN   \n",
       "--0kuuLmuYBe3Rmu0Iycww                     NaN                     NaN   \n",
       "\n",
       "business_id             -3ArWZfDjfab8qVHf3WVtg  -3m_nXlyvdKAVNNmVirpGQ  ...  \\\n",
       "user_id                                                                 ...   \n",
       "---r61b7EpVPkb4UVme5tA                     NaN                     NaN  ...   \n",
       "--0kuuLmuYBe3Rmu0Iycww                     NaN                     NaN  ...   \n",
       "\n",
       "business_id             zwTmOj4B_OVPMTMYijQiKg  zwWgOoaLY-RnFgNVuMc7GA  \\\n",
       "user_id                                                                  \n",
       "---r61b7EpVPkb4UVme5tA                     NaN                     NaN   \n",
       "--0kuuLmuYBe3Rmu0Iycww                     NaN                     NaN   \n",
       "\n",
       "business_id             zwd4dyQ5ovnjVojWfAuhMw  zwgBxmrmPBF6N2uRTUYXrQ  \\\n",
       "user_id                                                                  \n",
       "---r61b7EpVPkb4UVme5tA                     NaN                     NaN   \n",
       "--0kuuLmuYBe3Rmu0Iycww                     NaN                     NaN   \n",
       "\n",
       "business_id             zxRmQ_FWVowh8rlzLCSURQ  zxY4DgtXsVHihSUpsmwamg  \\\n",
       "user_id                                                                  \n",
       "---r61b7EpVPkb4UVme5tA                     NaN                     NaN   \n",
       "--0kuuLmuYBe3Rmu0Iycww                     NaN                     NaN   \n",
       "\n",
       "business_id             zy7uNOvpykrq-XlmDY_wHA  zyMkbavgHASQtqVwaock9A  \\\n",
       "user_id                                                                  \n",
       "---r61b7EpVPkb4UVme5tA                     NaN                     NaN   \n",
       "--0kuuLmuYBe3Rmu0Iycww                     NaN                     NaN   \n",
       "\n",
       "business_id             zz-fcqurtm77bZ_rVvo2Lw  zzyx5x0Z7xXWWvWnZFuxlQ  \n",
       "user_id                                                                 \n",
       "---r61b7EpVPkb4UVme5tA                     NaN                     NaN  \n",
       "--0kuuLmuYBe3Rmu0Iycww                     NaN                     NaN  \n",
       "\n",
       "[2 rows x 5852 columns]"
      ]
     },
     "execution_count": 12,
     "metadata": {},
     "output_type": "execute_result"
    }
   ],
   "source": [
    "df_pivot.head(2)"
   ]
  },
  {
   "cell_type": "code",
   "execution_count": 13,
   "metadata": {},
   "outputs": [],
   "source": [
    "# df_limited = df_review[df_review['user_id'].isin(df_review['user_id'].unique()[:1000]) &\n",
    "#                     df_review['business_id'].isin(df_review['business_id'].unique()[:1000])]\n",
    "# df_limited.reset_index(drop=True, inplace=True)\n",
    "# df_limited\n",
    "\n",
    "df_limited = df_merged[df_merged['user_id'].isin(df_merged['user_id'].unique()[:5000]) &\n",
    "                    df_merged['business_id'].isin(df_merged['business_id'].unique()[:100000])]\n",
    "df_limited.reset_index(drop=True, inplace=True)\n",
    "# df_limited\n",
    "\n",
    "#THIS ENDS NOT BEING USED\n",
    "# top_users = df_merged['user_id'].value_counts().nlargest(1000).index  # Top  users by review count\n",
    "# top_businesses = df_merged['business_id'].value_counts().nlargest(1000).index  # Top businesses by review count\n",
    "\n",
    "# # Step 2: Filter the pivot table for only the top users and businesses\n",
    "# df_limited3 = df_merged[df_merged.index.isin(top_users)]  # Filter rows (users) based on the top users\n",
    "# df_limited3 = df_limited3[df_limited3.index.isin(top_users)]  # Filter rows (users) based on the top users\n",
    "\n",
    "# # df_limited3 = df_limited3.loc[:, df_limited3.columns.isin(top_businesses)]  # Filter columns (businesses) based on top businesses\n",
    "\n",
    "# df_limited3.reset_index(drop=True, inplace=True)\n",
    "\n",
    "# print(df_limited3.shape)\n",
    "\n"
   ]
  },
  {
   "cell_type": "code",
   "execution_count": 14,
   "metadata": {},
   "outputs": [],
   "source": [
    "# Creating dataset from the df_review\n",
    "reader = Reader(rating_scale=(df_limited.stars.min(), df_limited.stars.max()))\n",
    "data = Dataset.load_from_df(df_limited[['user_id', 'business_id', 'stars']], reader)\n",
    "\n",
    "# Train/test split\n",
    "trainset, testset = train_test_split(data, test_size=0.2)"
   ]
  },
  {
   "cell_type": "code",
   "execution_count": 15,
   "metadata": {},
   "outputs": [],
   "source": [
    "# # Creating dataset from the df_review\n",
    "# reader = Reader(rating_scale=(df_merged.stars.min(), df_merged.stars.max()))\n",
    "# data = Dataset.load_from_df(df_merged[['user_id', 'business_id', 'stars']], reader)\n",
    "\n",
    "# # Train/test split\n",
    "# trainset, testset = train_test_split(data, test_size=0.2)"
   ]
  },
  {
   "cell_type": "code",
   "execution_count": 16,
   "metadata": {},
   "outputs": [
    {
     "data": {
      "text/plain": [
       "(687289, 9)"
      ]
     },
     "execution_count": 16,
     "metadata": {},
     "output_type": "execute_result"
    }
   ],
   "source": [
    "df_merged.shape"
   ]
  },
  {
   "cell_type": "code",
   "execution_count": 17,
   "metadata": {},
   "outputs": [],
   "source": [
    "# # Define evaluation function\n",
    "# def evaluate_algorithm(algo, trainset, testset):\n",
    "#     algo.fit(trainset)\n",
    "#     predictions = algo.test(testset)\n",
    "    \n",
    "#     # Compute and return RMSE\n",
    "#     rmse = accuracy.rmse(predictions)\n",
    "#     return rmse"
   ]
  },
  {
   "cell_type": "code",
   "execution_count": 18,
   "metadata": {},
   "outputs": [],
   "source": [
    "def evaluate_precision_recall(predictions, threshold=3.5):\n",
    "    # Convert predictions to a binary format based on the threshold\n",
    "    y_true = []\n",
    "    y_pred = []\n",
    "\n",
    "    # Count relevant items for precision and recall\n",
    "    for uid, iid, true_r, est, _ in predictions:\n",
    "        # Treat predictions >= threshold as relevant (1), otherwise not relevant (0)\n",
    "        y_true.append(1 if true_r >= threshold else 0)\n",
    "        y_pred.append(1 if est >= threshold else 0)\n",
    "\n",
    "    # Calculate True Positives, False Positives, False Negatives\n",
    "    true_positives = sum((1 for t, p in zip(y_true, y_pred) if t == 1 and p == 1))\n",
    "    false_positives = sum((1 for t, p in zip(y_true, y_pred) if t == 0 and p == 1))\n",
    "    false_negatives = sum((1 for t, p in zip(y_true, y_pred) if t == 1 and p == 0))\n",
    "\n",
    "    # Calculate Precision and Recall\n",
    "    precision = true_positives / (true_positives + false_positives) if (true_positives + false_positives) > 0 else 0\n",
    "    recall = true_positives / (true_positives + false_negatives) if (true_positives + false_negatives) > 0 else 0\n",
    "\n",
    "    return precision, recall\n",
    "\n",
    "def evaluate_coverage(predictions, total_items): #I THINK THIS IS WRONG\n",
    "    # Get the set of unique items recommended\n",
    "    recommended_items = set(pred[1] for pred in predictions)  # pred[1] is the business_id\n",
    "    coverage = len(recommended_items) / total_items if total_items > 0 else 0\n",
    "    return coverage"
   ]
  },
  {
   "cell_type": "code",
   "execution_count": 19,
   "metadata": {},
   "outputs": [],
   "source": [
    "def evaluate_algorithm(algo, trainset, testset, total_items):\n",
    "    algo.fit(trainset)\n",
    "    predictions = algo.test(testset)\n",
    "\n",
    "    rmse = accuracy.rmse(predictions)\n",
    "\n",
    "    precision, recall = evaluate_precision_recall(predictions)\n",
    "\n",
    "    coverage = evaluate_coverage(predictions, total_items) #I THINK THIS IS WRONG\n",
    "\n",
    "    return {\n",
    "        \"RMSE\": rmse,\n",
    "        \"Precision\": precision,\n",
    "        \"Recall\": recall,\n",
    "        \"Coverage\": coverage\n",
    "    }"
   ]
  },
  {
   "cell_type": "code",
   "execution_count": 20,
   "metadata": {},
   "outputs": [
    {
     "name": "stdout",
     "output_type": "stream",
     "text": [
      "RMSE: 1.4826\n",
      "{'RMSE': 1.4825865061264774, 'Precision': 0.6766134628730048, 'Recall': 0.6020996294771511, 'Coverage': 0.6240601503759399}\n"
     ]
    }
   ],
   "source": [
    "total_items = df_business['business_id'].nunique()  # Total number of unique businesses\n",
    "random_algo = NormalPredictor()\n",
    "evaluation_results = evaluate_algorithm(random_algo, trainset, testset, total_items)\n",
    "print(evaluation_results)\n",
    "\n",
    "# # Random Recommender\n",
    "# random_algo = NormalPredictor()\n",
    "# random_rmse = evaluate_algorithm(random_algo, trainset, testset)"
   ]
  },
  {
   "cell_type": "code",
   "execution_count": 21,
   "metadata": {},
   "outputs": [],
   "source": [
    "algorithms = {\n",
    "    \"random\": NormalPredictor(),\n",
    "    \"ubcf_msd\": KNNBasic(sim_options={'user_based': True}),\n",
    "    \"ubcf_cosine\": KNNBasic(sim_options={'user_based': True, 'name':\"cosine\"}),    \n",
    "    \"ibcf_msd\": KNNBasic(sim_options={'user_based': False}),\n",
    "    \"ibcf_cosine\": KNNBasic(sim_options={'user_based': False, 'name':\"cosine\"}),\n",
    "    \"svd_algo\": SVD()\n",
    "}"
   ]
  },
  {
   "cell_type": "code",
   "execution_count": 22,
   "metadata": {},
   "outputs": [
    {
     "name": "stdout",
     "output_type": "stream",
     "text": [
      "RMSE: 1.4814\n",
      "Computing the msd similarity matrix...\n",
      "Done computing similarity matrix.\n",
      "RMSE: 1.0574\n",
      "Computing the cosine similarity matrix...\n",
      "Done computing similarity matrix.\n",
      "RMSE: 1.0612\n",
      "Computing the msd similarity matrix...\n",
      "Done computing similarity matrix.\n",
      "RMSE: 1.0893\n",
      "Computing the cosine similarity matrix...\n",
      "Done computing similarity matrix.\n",
      "RMSE: 1.1017\n",
      "RMSE: 0.9984\n",
      "       RMSE  Precision    Recall  Coverage    Algorithm\n",
      "0  1.481422   0.674038  0.593934   0.62406       random\n",
      "1  1.057431   0.738926  0.842459   0.62406     ubcf_msd\n",
      "2  1.061214   0.734402  0.842391   0.62406  ubcf_cosine\n",
      "3  1.089328   0.722075  0.857829   0.62406     ibcf_msd\n",
      "4  1.101682   0.715789  0.849183   0.62406  ibcf_cosine\n",
      "5  0.998357   0.761533  0.829148   0.62406     svd_algo\n"
     ]
    }
   ],
   "source": [
    "results = []\n",
    "\n",
    "for name, algo in algorithms.items():\n",
    "    metrics = evaluate_algorithm(algo, trainset, testset, total_items)\n",
    "    metrics['Algorithm'] = name  # Add the algorithm name for reference\n",
    "    results.append(metrics)\n",
    "\n",
    "# Convert results to DataFrame for better visualization\n",
    "results_df = pd.DataFrame(results)\n",
    "\n",
    "# Display results\n",
    "print(results_df)"
   ]
  },
  {
   "cell_type": "code",
   "execution_count": 23,
   "metadata": {},
   "outputs": [
    {
     "data": {
      "image/png": "[encoded data removed]",
      "text/plain": [
       "<Figure size 1200x600 with 1 Axes>"
      ]
     },
     "metadata": {},
     "output_type": "display_data"
    }
   ],
   "source": [
    "import seaborn as sns\n",
    "import matplotlib.pyplot as plt\n",
    "\n",
    "results_melted = results_df.melt(id_vars='Algorithm', value_vars=['RMSE', 'Precision', 'Recall'])#, 'Coverage'\n",
    "\n",
    "plt.figure(figsize=(12, 6))\n",
    "plt.grid()\n",
    "sns.barplot(data=results_melted, x='variable', y='value', hue='Algorithm')\n",
    "plt.title('Comparison of Recommendation Algorithms')\n",
    "plt.ylabel('Score')\n",
    "plt.xlabel('Metrics')\n",
    "plt.xticks(rotation=45)\n",
    "plt.legend(title='Algorithm')\n",
    "plt.show()"
   ]
  },
  {
   "cell_type": "code",
   "execution_count": 28,
   "metadata": {},
   "outputs": [
    {
     "name": "stdout",
     "output_type": "stream",
     "text": [
      "Computing the msd similarity matrix...\n",
      "Done computing similarity matrix.\n",
      "Computing the cosine similarity matrix...\n",
      "Done computing similarity matrix.\n",
      "Computing the msd similarity matrix...\n",
      "Done computing similarity matrix.\n",
      "Computing the cosine similarity matrix...\n",
      "Done computing similarity matrix.\n"
     ]
    }
   ],
   "source": [
    "from surprise import accuracy\n",
    "import pandas as pd\n",
    "\n",
    "# Function to get predictions for a model\n",
    "def get_predictions(algo, testset):\n",
    "    return algo.test(testset)\n",
    "\n",
    "# Store predictions for each algorithm\n",
    "predictions_dict = {}\n",
    "\n",
    "for name, algo in algorithms.items():\n",
    "    algo.fit(trainset)  # Train the algorithm\n",
    "    predictions = get_predictions(algo, testset)\n",
    "    predictions_dict[name] = predictions\n",
    "\n",
    "# Prepare a DataFrame to store the actual and predicted ratings\n",
    "comparison_data = []\n",
    "\n",
    "for name, predictions in predictions_dict.items():\n",
    "    for uid, iid, true_r, est, _ in predictions:\n",
    "        comparison_data.append({\n",
    "            \"User ID\": uid,\n",
    "            \"Business ID\": iid,\n",
    "            \"True Rating\": true_r, \n",
    "            \"Predicted Rating\": round(est), #round(est)\n",
    "            \"Model\": name\n",
    "        })\n",
    "\n",
    "comparison_df = pd.DataFrame(comparison_data)\n",
    "# Calculate RMSE for each model\n",
    "results = {}"
   ]
  },
  {
   "cell_type": "code",
   "execution_count": 29,
   "metadata": {},
   "outputs": [
    {
     "data": {
      "image/png": "[encoded data removed]",
      "text/plain": [
       "<Figure size 1200x800 with 1 Axes>"
      ]
     },
     "metadata": {},
     "output_type": "display_data"
    }
   ],
   "source": [
    "import seaborn as sns\n",
    "import matplotlib.pyplot as plt\n",
    "\n",
    "# Crie o box plot\n",
    "plt.figure(figsize=(12, 8))\n",
    "sns.boxplot(data=comparison_df, x='True Rating', y='Predicted Rating', hue='Model', palette='Set2')\n",
    "\n",
    "# Adicionar linha de previsões perfeitas\n",
    "plt.plot([0, 5], [0, 5], color='red', linestyle='--', label='Previsões Perfeitas')  # Linha para previsões perfeitas\n",
    "plt.xlabel('Real Classification')\n",
    "plt.ylabel('Classification Predicted')\n",
    "plt.title('Real VS Predicted Classification')\n",
    "plt.legend()\n",
    "plt.show()\n",
    "\n"
   ]
  },
  {
   "cell_type": "markdown",
   "metadata": {},
   "source": [
    "algorithms = {\n",
    "    \"random\": NormalPredictor(),\n",
    "    \"ubcf_msd\": KNNBasic(sim_options={'user_based': True}),\n",
    "    \"ubcf_cosine\": KNNBasic(sim_options={'user_based': True, 'name':\"cosine\"}),    \n",
    "    \"ibcf_msd\": KNNBasic(sim_options={'user_based': False}),\n",
    "    \"ibcf_cosine\": KNNBasic(sim_options={'user_based': False, 'name':\"cosine\"}),\n",
    "    \"svd_algo\": SVD()\n",
    "}"
   ]
  },
  {
   "cell_type": "markdown",
   "metadata": {},
   "source": [
    "Recall & Prediction @K , adapted by Lara from\n",
    "from  https://surprise.readthedocs.io/en/stable/FAQ.html"
   ]
  },
  {
   "cell_type": "code",
   "execution_count": 35,
   "metadata": {},
   "outputs": [
    {
     "name": "stdout",
     "output_type": "stream",
     "text": [
      "Evaluating random...\n",
      "random - Average Precision@K: 0.4953\n",
      "random - Average Recall@K: 0.3396\n",
      "----------------------------------------\n",
      "Evaluating ubcf_msd...\n",
      "Computing the msd similarity matrix...\n",
      "Done computing similarity matrix.\n",
      "Computing the msd similarity matrix...\n",
      "Done computing similarity matrix.\n",
      "Computing the msd similarity matrix...\n",
      "Done computing similarity matrix.\n",
      "Computing the msd similarity matrix...\n",
      "Done computing similarity matrix.\n",
      "Computing the msd similarity matrix...\n",
      "Done computing similarity matrix.\n",
      "ubcf_msd - Average Precision@K: 0.5360\n",
      "ubcf_msd - Average Recall@K: 0.3508\n",
      "----------------------------------------\n",
      "Evaluating ubcf_cosine...\n",
      "Computing the cosine similarity matrix...\n",
      "Done computing similarity matrix.\n",
      "Computing the cosine similarity matrix...\n",
      "Done computing similarity matrix.\n",
      "Computing the cosine similarity matrix...\n",
      "Done computing similarity matrix.\n",
      "Computing the cosine similarity matrix...\n",
      "Done computing similarity matrix.\n",
      "Computing the cosine similarity matrix...\n",
      "Done computing similarity matrix.\n",
      "ubcf_cosine - Average Precision@K: 0.5292\n",
      "ubcf_cosine - Average Recall@K: 0.3404\n",
      "----------------------------------------\n",
      "Evaluating ibcf_msd...\n",
      "Computing the msd similarity matrix...\n",
      "Done computing similarity matrix.\n",
      "Computing the msd similarity matrix...\n",
      "Done computing similarity matrix.\n",
      "Computing the msd similarity matrix...\n",
      "Done computing similarity matrix.\n",
      "Computing the msd similarity matrix...\n",
      "Done computing similarity matrix.\n",
      "Computing the msd similarity matrix...\n",
      "Done computing similarity matrix.\n",
      "ibcf_msd - Average Precision@K: 0.4395\n",
      "ibcf_msd - Average Recall@K: 0.3365\n",
      "----------------------------------------\n",
      "Evaluating ibcf_cosine...\n",
      "Computing the cosine similarity matrix...\n",
      "Done computing similarity matrix.\n",
      "Computing the cosine similarity matrix...\n",
      "Done computing similarity matrix.\n",
      "Computing the cosine similarity matrix...\n",
      "Done computing similarity matrix.\n",
      "Computing the cosine similarity matrix...\n",
      "Done computing similarity matrix.\n",
      "Computing the cosine similarity matrix...\n",
      "Done computing similarity matrix.\n",
      "ibcf_cosine - Average Precision@K: 0.3926\n",
      "ibcf_cosine - Average Recall@K: 0.3175\n",
      "----------------------------------------\n",
      "Evaluating svd_algo...\n",
      "svd_algo - Average Precision@K: 0.5204\n",
      "svd_algo - Average Recall@K: 0.3482\n",
      "----------------------------------------\n"
     ]
    }
   ],
   "source": [
    "from collections import defaultdict\n",
    "\n",
    "from surprise import Dataset, SVD\n",
    "from surprise.model_selection import KFold\n",
    "\n",
    "\n",
    "def precision_recall_at_k(predictions, k=10, threshold=3.5):\n",
    "    \"\"\"Return precision and recall at k metrics for each user\"\"\"\n",
    "\n",
    "    # First map the predictions to each user.\n",
    "    user_est_true = defaultdict(list)\n",
    "    for uid, _, true_r, est, _ in predictions:\n",
    "        user_est_true[uid].append((est, true_r))\n",
    "\n",
    "    precisions = dict()\n",
    "    recalls = dict()\n",
    "    for uid, user_ratings in user_est_true.items():\n",
    "\n",
    "        # Sort user ratings by estimated value\n",
    "        user_ratings.sort(key=lambda x: x[0], reverse=True)\n",
    "\n",
    "        # Number of relevant items\n",
    "        n_rel = sum((true_r >= threshold) for (_, true_r) in user_ratings)\n",
    "\n",
    "        # Number of recommended items in top k\n",
    "        n_rec_k = sum((est >= threshold) for (est, _) in user_ratings[:k])\n",
    "\n",
    "        # Number of relevant and recommended items in top k\n",
    "        n_rel_and_rec_k = sum(\n",
    "            ((true_r >= threshold) and (est >= threshold))\n",
    "            for (est, true_r) in user_ratings[:k]\n",
    "        )\n",
    "\n",
    "        # Precision@K: Proportion of recommended items that are relevant\n",
    "        # When n_rec_k is 0, Precision is undefined. We here set it to 0.\n",
    "\n",
    "        precisions[uid] = n_rel_and_rec_k / n_rec_k if n_rec_k != 0 else 0\n",
    "\n",
    "        # Recall@K: Proportion of relevant items that are recommended\n",
    "        # When n_rel is 0, Recall is undefined. We here set it to 0.\n",
    "\n",
    "        recalls[uid] = n_rel_and_rec_k / n_rel if n_rel != 0 else 0\n",
    "\n",
    "    return precisions, recalls\n",
    "\n",
    "\n",
    "kf = KFold(n_splits=5)\n",
    "\n",
    "algorithms2 = {\n",
    "    \"random\": NormalPredictor(),\n",
    "    \"ubcf_msd\": KNNBasic(sim_options={'user_based': True}),\n",
    "    \"ubcf_cosine\": KNNBasic(sim_options={'user_based': True, 'name':\"cosine\"}),    \n",
    "    \"ibcf_msd\": KNNBasic(sim_options={'user_based': False}),\n",
    "    \"ibcf_cosine\": KNNBasic(sim_options={'user_based': False, 'name':\"cosine\"}),\n",
    "    \"svd_algo\": SVD()\n",
    "}\n",
    "algo_names = []\n",
    "precision_values = []\n",
    "recall_values = []\n",
    "\n",
    "# total_precision = 0\n",
    "# total_recall = 0\n",
    "# n_folds = kf.n_splits\n",
    "\n",
    "# for trainset, testset in kf.split(data):\n",
    "#     algo.fit(trainset)\n",
    "#     predictions = algo.test(testset)\n",
    "#     precisions, recalls = precision_recall_at_k(predictions, k=5, threshold=4)\n",
    "\n",
    "#     # Precision and recall can then be averaged over all users\n",
    "#     fold_precision = sum(prec for prec in precisions.values()) / len(precisions)\n",
    "#     fold_recall = sum(rec for rec in recalls.values()) / len(recalls)\n",
    "\n",
    "#     total_precision += fold_precision\n",
    "#     total_recall += fold_recall\n",
    "\n",
    "# # Final precision and recall (averaged across all folds)\n",
    "# final_precision = total_precision / n_folds\n",
    "# final_recall = total_recall / n_folds\n",
    "\n",
    "# # Display final results\n",
    "# print(f'Average Precision@K across all folds: {final_precision:.4f}')\n",
    "# print(f'Average Recall@K across all folds: {final_recall:.4f}')^\n",
    "\n",
    "\n",
    "# Evaluate each algorithm\n",
    "for algo_name, algo in algorithms.items():\n",
    "    print(f\"Evaluating {algo_name}...\")\n",
    "\n",
    "    total_precision = 0\n",
    "    total_recall = 0\n",
    "    n_folds = kf.n_splits\n",
    "\n",
    "    # Loop through each fold\n",
    "    for trainset, testset in kf.split(data):\n",
    "        algo.fit(trainset)  # Train the model on the training set\n",
    "        predictions = algo.test(testset)  # Generate predictions on the test set\n",
    "        \n",
    "        # Calculate precision and recall for this fold\n",
    "        precisions, recalls = precision_recall_at_k(predictions, k=5, threshold=4)\n",
    "        \n",
    "        # Average precision and recall over all users for this fold\n",
    "        fold_precision = sum(prec for prec in precisions.values()) / len(precisions)\n",
    "        fold_recall = sum(rec for rec in recalls.values()) / len(recalls)\n",
    "        \n",
    "        # Accumulate the fold precision and recall\n",
    "        total_precision += fold_precision\n",
    "        total_recall += fold_recall\n",
    "\n",
    "    # Final precision and recall (averaged across all folds)\n",
    "    final_precision = total_precision / n_folds\n",
    "    final_recall = total_recall / n_folds\n",
    "\n",
    "    # Store results for plotting\n",
    "    algo_names.append(algo_name)\n",
    "    precision_values.append(final_precision)\n",
    "    recall_values.append(final_recall)\n",
    "\n",
    "    # Display final results for this algorithm\n",
    "    print(f'{algo_name} - Average Precision@K: {final_precision:.4f}')\n",
    "    print(f'{algo_name} - Average Recall@K: {final_recall:.4f}')\n",
    "    print('-' * 40)"
   ]
  },
  {
   "cell_type": "code",
   "execution_count": 38,
   "metadata": {},
   "outputs": [
    {
     "data": {
      "image/png": "[encoded data removed]",
      "text/plain": [
       "<Figure size 1000x500 with 1 Axes>"
      ]
     },
     "metadata": {},
     "output_type": "display_data"
    }
   ],
   "source": [
    "plt.figure(figsize=(10, 5))\n",
    "plt.grid()\n",
    "# Plot precision\n",
    "plt.bar(algo_names, precision_values, width=0.4, label=\"Precision@K\", align='center')\n",
    "\n",
    "# Plot recall\n",
    "plt.bar(algo_names, recall_values, width=0.4, label=\"Recall@K\", align='edge')\n",
    "\n",
    "# Adding labels and title\n",
    "plt.xlabel(\"Algorithms\")\n",
    "plt.ylabel(\"Scores\")\n",
    "plt.title(\"Precision@K and Recall@K for Different Algorithms: K=10\")\n",
    "plt.xticks(rotation=45)\n",
    "plt.legend()\n",
    "\n",
    "# Show the plot\n",
    "plt.tight_layout()\n",
    "plt.show()"
   ]
  },
  {
   "cell_type": "code",
   "execution_count": null,
   "metadata": {},
   "outputs": [],
   "source": []
  },
  {
   "cell_type": "code",
   "execution_count": 26,
   "metadata": {},
   "outputs": [],
   "source": [
    "# plt.figure(figsize=(12, 8))\n",
    "# sns.boxplot(data=sample_comparison_df, x='True Rating', y='Predicted Rating', hue='Model', palette='Set2')\n",
    "# plt.xlabel('Real Classification')\n",
    "# plt.ylabel('Classification Predicted')\n",
    "# plt.title('Real VS PredictedClassification')\n",
    "# plt.grid()\n",
    "# plt.show()\n"
   ]
  },
  {
   "cell_type": "markdown",
   "metadata": {},
   "source": []
  },
  {
   "cell_type": "code",
   "execution_count": 27,
   "metadata": {},
   "outputs": [
    {
     "ename": "TypeError",
     "evalue": "evaluate_algorithm() missing 1 required positional argument: 'total_items'",
     "output_type": "error",
     "traceback": [
      "\u001b[1;31m---------------------------------------------------------------------------\u001b[0m",
      "\u001b[1;31mTypeError\u001b[0m                                 Traceback (most recent call last)",
      "Cell \u001b[1;32mIn[27], line 3\u001b[0m\n\u001b[0;32m      1\u001b[0m \u001b[38;5;66;03m# User-Based Collaborative Filtering\u001b[39;00m\n\u001b[0;32m      2\u001b[0m ubcf_algo \u001b[38;5;241m=\u001b[39m KNNBasic(sim_options\u001b[38;5;241m=\u001b[39m{\u001b[38;5;124m'\u001b[39m\u001b[38;5;124muser_based\u001b[39m\u001b[38;5;124m'\u001b[39m: \u001b[38;5;28;01mTrue\u001b[39;00m})\n\u001b[1;32m----> 3\u001b[0m ubcf_rmse \u001b[38;5;241m=\u001b[39m evaluate_algorithm(ubcf_algo, trainset, testset)\n",
      "\u001b[1;31mTypeError\u001b[0m: evaluate_algorithm() missing 1 required positional argument: 'total_items'"
     ]
    }
   ],
   "source": [
    "# User-Based Collaborative Filtering\n",
    "ubcf_algo = KNNBasic(sim_options={'user_based': True})\n",
    "ubcf_rmse = evaluate_algorithm(ubcf_algo, trainset, testset)"
   ]
  },
  {
   "cell_type": "code",
   "execution_count": 95,
   "metadata": {},
   "outputs": [
    {
     "name": "stdout",
     "output_type": "stream",
     "text": [
      "Computing the msd similarity matrix...\n",
      "Done computing similarity matrix.\n",
      "RMSE: 1.0824\n"
     ]
    }
   ],
   "source": [
    "# Item-Based Collaborative Filtering\n",
    "ibcf_algo = KNNBasic(sim_options={'user_based': False})\n",
    "ibcf_rmse = evaluate_algorithm(ibcf_algo, trainset, testset)"
   ]
  },
  {
   "cell_type": "code",
   "execution_count": 96,
   "metadata": {},
   "outputs": [
    {
     "name": "stdout",
     "output_type": "stream",
     "text": [
      "RMSE: 1.0019\n"
     ]
    }
   ],
   "source": [
    "# Singular Value Decomposition (SVD)\n",
    "svd_algo = SVD()\n",
    "svd_rmse = evaluate_algorithm(svd_algo, trainset, testset)"
   ]
  },
  {
   "cell_type": "code",
   "execution_count": 97,
   "metadata": {},
   "outputs": [
    {
     "name": "stdout",
     "output_type": "stream",
     "text": [
      "Random RMSE: 1.479\n",
      "User-Based CF RMSE: 1.055\n",
      "Item-Based CF RMSE: 1.082\n",
      "SVD RMSE: 1.002\n"
     ]
    }
   ],
   "source": [
    "print(f\"Random RMSE: {random_rmse:.3f}\")\n",
    "print(f\"User-Based CF RMSE: {ubcf_rmse:.3f}\")\n",
    "print(f\"Item-Based CF RMSE: {ibcf_rmse:.3f}\")\n",
    "print(f\"SVD RMSE: {svd_rmse:.3f}\")"
   ]
  },
  {
   "cell_type": "markdown",
   "metadata": {},
   "source": [
    "Adaptation of exercises from L02.1 (Lara)\n",
    "### <a id='toc1_1_1_'></a>[Tokenization](#toc0_)\n"
   ]
  },
  {
   "cell_type": "code",
   "execution_count": null,
   "metadata": {},
   "outputs": [],
   "source": []
  }
 ],
 "metadata": {
  "kernelspec": {
   "display_name": "mecd",
   "language": "python",
   "name": "python3"
  },
  "language_info": {
   "codemirror_mode": {
    "name": "ipython",
    "version": 3
   },
   "file_extension": ".py",
   "mimetype": "text/x-python",
   "name": "python",
   "nbconvert_exporter": "python",
   "pygments_lexer": "ipython3",
   "version": "3.11.4"
  }
 },
 "nbformat": 4,
 "nbformat_minor": 2
}
